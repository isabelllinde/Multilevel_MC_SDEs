{
 "cells": [
  {
   "cell_type": "code",
   "execution_count": 1,
   "metadata": {},
   "outputs": [],
   "source": [
    "import mlmc_RSCAM as mlmc\n",
    "import matplotlib.pyplot as plt"
   ]
  },
  {
   "cell_type": "code",
   "execution_count": null,
   "metadata": {},
   "outputs": [],
   "source": []
  },
  {
   "cell_type": "code",
   "execution_count": null,
   "metadata": {},
   "outputs": [],
   "source": [
    "def anti_Asian_payoff(self,N_loop,l,M):\n",
    "    \n",
    "    r=self.r;K=self.K;T=self.T\n",
    "    Xf,Xa,Xc=self.anti_path(N_loop,l,M) #call anti_path function\n",
    "    \n",
    "    Xc_av = 1/N_loop * sum(0.5 * (Xc[i] + Xc[i+1]) for i in range(len(Xc-1)))\n",
    "    Xf_av = 1/N_loop * sum(0.25 * (Xf[i] + 2 * Xf[i+1] + Xf[i+2]) for i in range(len(Xf-2)))\n",
    "    Xa_av = 1/N_loop * sum(0.25 * (Xa[i] + 2 * Xa[i+1] + Xa[i+2]) for i in range(len(Xa-2)))\n",
    "    \n",
    "    #Calculate payoffs etc.\n",
    "    Pf=np.maximum(0,Xf_av-K)\n",
    "    Pf=np.exp(-r*T)*Pf_av #Payoff at fine level\n",
    "    if l==0:\n",
    "        return Pf,Xc_av #Just ignore Pc=Xc\n",
    "    else:\n",
    "        Pa=np.maximum(0,Xa_av-K)\n",
    "        Pa=np.exp(-r*T)*Pa #Antithetic payoff\n",
    "        Pc=np.maximum(0,Xc_av-K)\n",
    "        Pc=np.exp(-r*T)*Xc_av #Payoff at coarse level\n",
    "        return 0.5 * (Pf + Pa), Pc"
   ]
  },
  {
   "cell_type": "code",
   "execution_count": null,
   "metadata": {},
   "outputs": [],
   "source": [
    "class Asian_GBM(GBM_Option):\n",
    "    \"\"\"\n",
    "    Class for Geometric Brownian Motion Asian Call Options. Inherits from GBM_Option class.\n",
    "    __________________\n",
    "    payoff=max(avg(S)-K,0)\n",
    "    __________________\n",
    "    \n",
    "    Attributes:\n",
    "        __Inherited__\n",
    "    \"\"\"\n",
    "    \n",
    "    payoff = Asian_payoff #Set payoff method to Asian call option payoff\n",
    "    anti_payoff = anti_Asian_payoff #Set anti_payoff method to Asian call option payoff with antithetic estimator\n",
    "    path = diffusion_path_avg #Set path to diffusion path which calculates final avg. asset prices\n",
    "    anti_path = diffusion_anti_path #Set anti_path to diffusion path which calculates final asset prices with antithetic path"
   ]
  }
 ],
 "metadata": {
  "kernelspec": {
   "display_name": "Python 3",
   "language": "python",
   "name": "python3"
  },
  "language_info": {
   "codemirror_mode": {
    "name": "ipython",
    "version": 3
   },
   "file_extension": ".py",
   "mimetype": "text/x-python",
   "name": "python",
   "nbconvert_exporter": "python",
   "pygments_lexer": "ipython3",
   "version": "3.7.3"
  }
 },
 "nbformat": 4,
 "nbformat_minor": 4
}
