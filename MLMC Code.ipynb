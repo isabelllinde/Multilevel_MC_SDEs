{
 "cells": [
  {
   "cell_type": "code",
   "execution_count": 1,
   "metadata": {},
   "outputs": [],
   "source": [
    "import numpy as np\n",
    "import matplotlib.pyplot as plt\n",
    "from scipy.stats import norm\n",
    "import matplotlib.pyplot as plt"
   ]
  },
  {
   "cell_type": "code",
   "execution_count": 82,
   "metadata": {},
   "outputs": [],
   "source": [
    "def mlmc_gbm(l,Nl,T=1,M=2):\n",
    "    Nsteps=M**l\n",
    "    dt=T/Nsteps\n",
    "    sqrt_dt=np.sqrt(dt)\n",
    "    W=np.random.randn(Nsteps,Nl)*sqrt_dt\n",
    "    P_l=calc_P_l(W,dt)\n",
    "    sum1=sum(P_l)\n",
    "    sum2=sum(P_l**2)\n",
    "    \n",
    "    if l==0:\n",
    "        return [sum1,sum2,sum1,sum2]\n",
    "    else:\n",
    "        Wnew=W[0::M,:]\n",
    "        for m in range(1,M):\n",
    "            Wnew+=W[m::M,:]\n",
    "        P_lm1=calc_P_l(Wnew,M*dt)\n",
    "        dP_l=P_l-P_lm1\n",
    "        return [sum(dP_l),sum(dP_l**2),sum1,sum2]\n",
    "\n",
    "def calc_P_l(W,dt,X0=100,T=1):\n",
    "    '''\n",
    "    Inputs: W (matrix of Nsteps x Nl random numbers ~ N(0,1))\n",
    "    Outputs: h(X) (payoff for each of the Nl paths)\n",
    "    Calculate X for Nl paths over Nsteps \n",
    "    '''\n",
    "    Nsteps,Nl=np.shape(W)\n",
    "    X=X0*np.ones(Nl)\n",
    "    for i in range(Nsteps):\n",
    "        X+=r*X*dt + sig*X*W[i,:]\n",
    "    X[X<0]=0\n",
    "    return np.exp(-0.05*T)*X\n",
    "\n",
    "def N_opt(V,eps,L,M):\n",
    "    '''\n",
    "    This shouldn't change depending on alpha, but will change according to gamma.\n",
    "    Beta is implicitly included in V, since Vl <= hl**beta.\n",
    "    '''\n",
    "    return ((2/(eps**2))*sum(np.sqrt(V*M**(np.arange(0,L+1))))*np.sqrt(V/M**np.arange(0,L+1))+1).astype(int)\n",
    "    \n",
    "def mlmc(mlmc_fn,eps,N0=10**2,M=2,T=1):\n",
    "    V=np.zeros(3)\n",
    "    N=N0*np.ones(3)\n",
    "    dN=N0*np.ones(3)\n",
    "    sums=np.zeros((4,3))\n",
    "    L=0\n",
    "    for l in range(3):\n",
    "        sums[:,l]+=mlmc_fn(l,N0,M,T)\n",
    "    print(sums)\n",
    "    while (sum(dN)!=0):\n",
    "        V=np.maximum(sums[1,:]/N-(sums[0,:]/N)**2,0)\n",
    "        Nl_new=N_opt(V,eps,L,M)\n",
    "        dN=(np.maximum(0,Nl_new-N)).astype(int)\n",
    "        N+=dN\n",
    "        for l in range(L+1):\n",
    "            if dN[l]>0:\n",
    "                print(dN[l])\n",
    "                sums[l,:]+=mlmc_fn(l,dN[l],M,T)\n",
    "                \n",
    "        if max(abs(sums[0,L-1])/(N[-2]*M),abs(sums[0,L])/N[-1])>(M-1)*eps/np.sqrt(2) or L<=2:\n",
    "                L+=1\n",
    "                V=np.concatenate((V,np.zeros(1)), axis=0)\n",
    "                N=np.concatenate((N,N0*np.ones(1)),axis=0)\n",
    "                dN=np.concatenate((dN,N0*np.ones(1)),axis=0)\n",
    "                sums=np.concatenate((sums,np.zeros((4,1))),axis=1)\n",
    "                sums[:,L]+=mlmc_fn(L,N0,M,T)\n",
    "                V[L]=np.maximum(sums[1,L]/N0-(sums[0,L]/N0)**2,0)\n",
    "    \n",
    "    return sums,N\n",
    "\n",
    "def mlmc_variance(eps,mlmc_fn,M=2,T=1,N0=10**4):\n",
    "    sums,N=mlmc(mlmc_fn,eps,M,T,N0)\n",
    "    L=len(N)-1\n",
    "    means_dp=sums[0,:]/N\n",
    "    means_p=sums[2,:]/N\n",
    "\n",
    "    V_dp=(sums[1,:]/N)-means_dp**2\n",
    "    V_p=(sums[3,:]/N)-means_p**2\n",
    "\n",
    "    cost_mlmc=(N[0]+sum(N[1:]*(M**np.arange(L)+M**np.arange(1,L+1))))*eps**2\n",
    "    cost_mc=2*sum(V_p*M**np.arange(L+1))\n",
    "    \n",
    "    fig,ax=plt.subplots(1,2)\n",
    "    ax[0].plot(range(L+1),np.log(V_dp)/np.log(M),'k',range(L+1),np.log(Vp)/np.log(M),'b')\n",
    "    ax[1].plot(range(L+1),np.log(means_dp)/np.log(M),'k',range(L+1),np.log(means_p)/np.log(M),'b')\n",
    "\n",
    "\n",
    "def mlmc_complexity(eps,mlmc_fn,M=2,T=1,N0=10**2):\n",
    "    fig,ax=plt.subplots(1,2)\n",
    "    for e in eps:\n",
    "        sums,N=mlmc(mlmc_fn,e,M,T,N0)\n",
    "        L=len(N)-1\n",
    "        means_p=sums[2,:]/N\n",
    "        V_p=(sums[3,:]/N)-means_p**2\n",
    "\n",
    "        cost_mlmc=(N[0]+sum(N[1:]*(M**np.arange(L)+M**np.arange(1,L+1))))*e**2\n",
    "        cost_mc=2*sum(V_p*M**np.arange(L+1))\n",
    "\n",
    "    ax[0].semilogy(range(L+1),N)\n",
    "    ax[1].loglog(eps,cost_mlmc,'k', eps, cost_mc,'b')\n",
    "\n",
    "    "
   ]
  },
  {
   "cell_type": "code",
   "execution_count": 83,
   "metadata": {},
   "outputs": [
    {
     "name": "stdout",
     "output_type": "stream",
     "text": [
      "[[ 2.22319807e+02 -5.35419945e+00 -4.50419775e-01]\n",
      " [ 2.54305792e+04  1.43467304e+01  1.02221180e-01]\n",
      " [ 2.22319807e+02  2.17030481e+02  1.99310382e+02]\n",
      " [ 2.54305792e+04  2.35511633e+04  2.17095459e+04]]\n",
      "72132\n"
     ]
    },
    {
     "ename": "ValueError",
     "evalue": "operands could not be broadcast together with shapes (3,) (4,) (3,) ",
     "output_type": "error",
     "traceback": [
      "\u001b[1;31m---------------------------------------------------------------------------\u001b[0m",
      "\u001b[1;31mValueError\u001b[0m                                Traceback (most recent call last)",
      "\u001b[1;32m<ipython-input-83-8be5ff5022af>\u001b[0m in \u001b[0;36m<module>\u001b[1;34m\u001b[0m\n\u001b[1;32m----> 1\u001b[1;33m \u001b[0mmlmc_complexity\u001b[0m\u001b[1;33m(\u001b[0m\u001b[1;33m[\u001b[0m\u001b[1;36m0.1\u001b[0m\u001b[1;33m]\u001b[0m\u001b[1;33m,\u001b[0m\u001b[0mmlmc_gbm\u001b[0m\u001b[1;33m)\u001b[0m\u001b[1;33m\u001b[0m\u001b[1;33m\u001b[0m\u001b[0m\n\u001b[0m",
      "\u001b[1;32m<ipython-input-82-54dedd6021b0>\u001b[0m in \u001b[0;36mmlmc_complexity\u001b[1;34m(eps, mlmc_fn, M, T, N0)\u001b[0m\n\u001b[0;32m     88\u001b[0m     \u001b[0mfig\u001b[0m\u001b[1;33m,\u001b[0m\u001b[0max\u001b[0m\u001b[1;33m=\u001b[0m\u001b[0mplt\u001b[0m\u001b[1;33m.\u001b[0m\u001b[0msubplots\u001b[0m\u001b[1;33m(\u001b[0m\u001b[1;36m1\u001b[0m\u001b[1;33m,\u001b[0m\u001b[1;36m2\u001b[0m\u001b[1;33m)\u001b[0m\u001b[1;33m\u001b[0m\u001b[1;33m\u001b[0m\u001b[0m\n\u001b[0;32m     89\u001b[0m     \u001b[1;32mfor\u001b[0m \u001b[0me\u001b[0m \u001b[1;32min\u001b[0m \u001b[0meps\u001b[0m\u001b[1;33m:\u001b[0m\u001b[1;33m\u001b[0m\u001b[1;33m\u001b[0m\u001b[0m\n\u001b[1;32m---> 90\u001b[1;33m         \u001b[0msums\u001b[0m\u001b[1;33m,\u001b[0m\u001b[0mN\u001b[0m\u001b[1;33m=\u001b[0m\u001b[0mmlmc\u001b[0m\u001b[1;33m(\u001b[0m\u001b[0mmlmc_fn\u001b[0m\u001b[1;33m,\u001b[0m\u001b[0me\u001b[0m\u001b[1;33m,\u001b[0m\u001b[0mM\u001b[0m\u001b[1;33m,\u001b[0m\u001b[0mT\u001b[0m\u001b[1;33m,\u001b[0m\u001b[0mN0\u001b[0m\u001b[1;33m)\u001b[0m\u001b[1;33m\u001b[0m\u001b[1;33m\u001b[0m\u001b[0m\n\u001b[0m\u001b[0;32m     91\u001b[0m         \u001b[0mL\u001b[0m\u001b[1;33m=\u001b[0m\u001b[0mlen\u001b[0m\u001b[1;33m(\u001b[0m\u001b[0mN\u001b[0m\u001b[1;33m)\u001b[0m\u001b[1;33m-\u001b[0m\u001b[1;36m1\u001b[0m\u001b[1;33m\u001b[0m\u001b[1;33m\u001b[0m\u001b[0m\n\u001b[0;32m     92\u001b[0m         \u001b[0mmeans_p\u001b[0m\u001b[1;33m=\u001b[0m\u001b[0msums\u001b[0m\u001b[1;33m[\u001b[0m\u001b[1;36m2\u001b[0m\u001b[1;33m,\u001b[0m\u001b[1;33m:\u001b[0m\u001b[1;33m]\u001b[0m\u001b[1;33m/\u001b[0m\u001b[0mN\u001b[0m\u001b[1;33m\u001b[0m\u001b[1;33m\u001b[0m\u001b[0m\n",
      "\u001b[1;32m<ipython-input-82-54dedd6021b0>\u001b[0m in \u001b[0;36mmlmc\u001b[1;34m(mlmc_fn, eps, N0, M, T)\u001b[0m\n\u001b[0;32m     55\u001b[0m             \u001b[1;32mif\u001b[0m \u001b[0mdN\u001b[0m\u001b[1;33m[\u001b[0m\u001b[0ml\u001b[0m\u001b[1;33m]\u001b[0m\u001b[1;33m>\u001b[0m\u001b[1;36m0\u001b[0m\u001b[1;33m:\u001b[0m\u001b[1;33m\u001b[0m\u001b[1;33m\u001b[0m\u001b[0m\n\u001b[0;32m     56\u001b[0m                 \u001b[0mprint\u001b[0m\u001b[1;33m(\u001b[0m\u001b[0mdN\u001b[0m\u001b[1;33m[\u001b[0m\u001b[0ml\u001b[0m\u001b[1;33m]\u001b[0m\u001b[1;33m)\u001b[0m\u001b[1;33m\u001b[0m\u001b[1;33m\u001b[0m\u001b[0m\n\u001b[1;32m---> 57\u001b[1;33m                 \u001b[0msums\u001b[0m\u001b[1;33m[\u001b[0m\u001b[0ml\u001b[0m\u001b[1;33m,\u001b[0m\u001b[1;33m:\u001b[0m\u001b[1;33m]\u001b[0m\u001b[1;33m+=\u001b[0m\u001b[0mmlmc_fn\u001b[0m\u001b[1;33m(\u001b[0m\u001b[0ml\u001b[0m\u001b[1;33m,\u001b[0m\u001b[0mdN\u001b[0m\u001b[1;33m[\u001b[0m\u001b[0ml\u001b[0m\u001b[1;33m]\u001b[0m\u001b[1;33m,\u001b[0m\u001b[0mM\u001b[0m\u001b[1;33m,\u001b[0m\u001b[0mT\u001b[0m\u001b[1;33m)\u001b[0m\u001b[1;33m\u001b[0m\u001b[1;33m\u001b[0m\u001b[0m\n\u001b[0m\u001b[0;32m     58\u001b[0m \u001b[1;33m\u001b[0m\u001b[0m\n\u001b[0;32m     59\u001b[0m         \u001b[1;32mif\u001b[0m \u001b[0mmax\u001b[0m\u001b[1;33m(\u001b[0m\u001b[0mabs\u001b[0m\u001b[1;33m(\u001b[0m\u001b[0msums\u001b[0m\u001b[1;33m[\u001b[0m\u001b[1;36m0\u001b[0m\u001b[1;33m,\u001b[0m\u001b[0mL\u001b[0m\u001b[1;33m-\u001b[0m\u001b[1;36m1\u001b[0m\u001b[1;33m]\u001b[0m\u001b[1;33m)\u001b[0m\u001b[1;33m/\u001b[0m\u001b[1;33m(\u001b[0m\u001b[0mN\u001b[0m\u001b[1;33m[\u001b[0m\u001b[1;33m-\u001b[0m\u001b[1;36m2\u001b[0m\u001b[1;33m]\u001b[0m\u001b[1;33m*\u001b[0m\u001b[0mM\u001b[0m\u001b[1;33m)\u001b[0m\u001b[1;33m,\u001b[0m\u001b[0mabs\u001b[0m\u001b[1;33m(\u001b[0m\u001b[0msums\u001b[0m\u001b[1;33m[\u001b[0m\u001b[1;36m0\u001b[0m\u001b[1;33m,\u001b[0m\u001b[0mL\u001b[0m\u001b[1;33m]\u001b[0m\u001b[1;33m)\u001b[0m\u001b[1;33m/\u001b[0m\u001b[0mN\u001b[0m\u001b[1;33m[\u001b[0m\u001b[1;33m-\u001b[0m\u001b[1;36m1\u001b[0m\u001b[1;33m]\u001b[0m\u001b[1;33m)\u001b[0m\u001b[1;33m>\u001b[0m\u001b[1;33m(\u001b[0m\u001b[0mM\u001b[0m\u001b[1;33m-\u001b[0m\u001b[1;36m1\u001b[0m\u001b[1;33m)\u001b[0m\u001b[1;33m*\u001b[0m\u001b[0meps\u001b[0m\u001b[1;33m/\u001b[0m\u001b[0mnp\u001b[0m\u001b[1;33m.\u001b[0m\u001b[0msqrt\u001b[0m\u001b[1;33m(\u001b[0m\u001b[1;36m2\u001b[0m\u001b[1;33m)\u001b[0m \u001b[1;32mor\u001b[0m \u001b[0mL\u001b[0m\u001b[1;33m<=\u001b[0m\u001b[1;36m2\u001b[0m\u001b[1;33m:\u001b[0m\u001b[1;33m\u001b[0m\u001b[1;33m\u001b[0m\u001b[0m\n",
      "\u001b[1;31mValueError\u001b[0m: operands could not be broadcast together with shapes (3,) (4,) (3,) "
     ]
    },
    {
     "data": {
      "image/png": "[encoded data removed]",
      "text/plain": [
       "<Figure size 432x288 with 2 Axes>"
      ]
     },
     "metadata": {
      "needs_background": "light"
     },
     "output_type": "display_data"
    }
   ],
   "source": [
    "mlmc_complexity([0.1],mlmc_gbm)"
   ]
  },
  {
   "cell_type": "code",
   "execution_count": 7,
   "metadata": {},
   "outputs": [
    {
     "name": "stdout",
     "output_type": "stream",
     "text": [
      "12.335998930368717\n"
     ]
    }
   ],
   "source": [
    "#Exact result according to BS formula\n",
    "D1 =(r+sig**2/2)/sig\n",
    "D2 = D1 - sig\n",
    "print(100*norm.cdf(D1)-100*np.exp(-r)*norm.cdf(D2))\n"
   ]
  }
 ],
 "metadata": {
  "kernelspec": {
   "display_name": "Python 3",
   "language": "python",
   "name": "python3"
  },
  "language_info": {
   "codemirror_mode": {
    "name": "ipython",
    "version": 3
   },
   "file_extension": ".py",
   "mimetype": "text/x-python",
   "name": "python",
   "nbconvert_exporter": "python",
   "pygments_lexer": "ipython3",
   "version": "3.7.6"
  }
 },
 "nbformat": 4,
 "nbformat_minor": 4
}
