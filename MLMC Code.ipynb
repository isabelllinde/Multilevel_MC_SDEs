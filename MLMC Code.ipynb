{
 "cells": [
  {
   "cell_type": "code",
   "execution_count": 1,
   "metadata": {},
   "outputs": [],
   "source": [
    "import numpy as np\n",
    "import matplotlib.pyplot as plt\n",
    "from scipy.stats import norm"
   ]
  },
  {
   "cell_type": "code",
   "execution_count": 3,
   "metadata": {},
   "outputs": [],
   "source": [
    "def mlmc_gbm(l,Nl,T=1,M=2):\n",
    "    if Nl==0:\n",
    "        return \n",
    "    Nsteps=M**l\n",
    "    dt=T/Nsteps\n",
    "    sqrt_dt=np.sqrt(dt)\n",
    "    W=np.random.randn(Nsteps,Nl)*sqrt_dt\n",
    "    P_l=calc_P_l(W,dt)\n",
    "    sum1=sum(P_l)\n",
    "    sum2=sum(P_l**2)\n",
    "    \n",
    "    if l==0:\n",
    "        return np.array([sum1,sum2,sum1,sum2])\n",
    "    else:\n",
    "        Wnew=W[0::M,:]\n",
    "        for m in range(1,M):\n",
    "            Wnew+=W[m::M,:]\n",
    "        P_lm1=calc_P_l(Wnew,M*dt)\n",
    "        dP_l=P_l-P_lm1\n",
    "        return [sum(dP_l),sum(dP_l**2),sum1,sum2]\n",
    "    \n",
    "def calc_P_l(W,dt,X0=100,T=1):\n",
    "    '''\n",
    "    Inputs: W (matrix of Nsteps x Nl random numbers ~ N(0,1))\n",
    "    Outputs: h(X) (payoff for each of the Nl paths)\n",
    "    Calculate X for Nl paths over Nsteps \n",
    "    '''\n",
    "    Nsteps,Nl=np.shape(W)\n",
    "    X=X0*np.ones(Nl)\n",
    "    for i in range(Nsteps):\n",
    "        X+=r*X*dt + sig*X*W[i,:]\n",
    "    X[X<0]=0\n",
    "    return np.exp(-0.05*T)*X\n",
    "\n",
    "def N_opt(V,eps,l,L,M):\n",
    "    return int((2/(eps**2))*sum(np.sqrt(V*M**(np.arange(0,L+1))))*np.sqrt(V[l]/M**l)+1)\n",
    "    \n",
    "def mlmc(mlmc_fn,eps,N0=10**4,M=2,T=1):\n",
    "    '''\n",
    "    '''\n",
    "    V=np.zeros(1)\n",
    "    N=N0*np.ones(1)\n",
    "    dN=N0*np.ones(1)\n",
    "    sums=np.zeros(4,1)\n",
    "    L=0\n",
    "    sums[:,L]+=mlmc_fn(L,N0,M,T)\n",
    "    V[L]=(sums[1,L]-sums[0,L]**2)/N0\n",
    "\n",
    "    while (sum(dN)!=0):\n",
    "        for l in range(0,L+1):\n",
    "            Nl=N[l]\n",
    "            V[l]=(sums[1,l]-sums[0,l]**2)/Nl\n",
    "            Nl_new=N_opt(V,eps,l,L,M)\n",
    "            dNl[l]=max(0,Nl_new-Nl)\n",
    "            sums[L,:]+=mlmc_fn(l,dNl,M,T)\n",
    "            \n",
    "        N+=dNl\n",
    "        if max(abs(sums[0,L-1])/(N[-2]*M),abs(sums[0,L])/N[-1])>(M-1)*eps/np.sqrt(2) or L<=2:\n",
    "            L+=1\n",
    "            V=np.hstack(V,np.zeros(1))\n",
    "            N=np.hstack(N,N0*np.ones(1))\n",
    "            dN=np.hstack(dN,N0*np.ones(1))\n",
    "            sums=np.hstack(sums,np.zeros(4,1))\n",
    "            sums[:,L]+=mlmc_fn(L,N0,M,T)\n",
    "            V[L]=(sums[1,L]-sums[0,L]**2)/N0\n",
    "    \n",
    "    return sums,N\n",
    "            "
   ]
  },
  {
   "cell_type": "code",
   "execution_count": 7,
   "metadata": {},
   "outputs": [
    {
     "name": "stdout",
     "output_type": "stream",
     "text": [
      "12.335998930368717\n"
     ]
    }
   ],
   "source": [
    "#Exact result according to BS formula\n",
    "D1 =(r+sig**2/2)/sig\n",
    "D2 = D1 - sig\n",
    "print(100*norm.cdf(D1)-100*np.exp(-r)*norm.cdf(D2))\n"
   ]
  },
  {
   "cell_type": "code",
   "execution_count": null,
   "metadata": {},
   "outputs": [],
   "source": []
  }
 ],
 "metadata": {
  "kernelspec": {
   "display_name": "Python 3",
   "language": "python",
   "name": "python3"
  },
  "language_info": {
   "codemirror_mode": {
    "name": "ipython",
    "version": 3
   },
   "file_extension": ".py",
   "mimetype": "text/x-python",
   "name": "python",
   "nbconvert_exporter": "python",
   "pygments_lexer": "ipython3",
   "version": "3.7.6"
  }
 },
 "nbformat": 4,
 "nbformat_minor": 4
}
