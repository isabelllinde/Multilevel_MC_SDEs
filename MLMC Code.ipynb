{
 "cells": [
  {
   "cell_type": "code",
   "execution_count": null,
   "metadata": {},
   "outputs": [],
   "source": [
    "conda install "
   ]
  },
  {
   "cell_type": "code",
   "execution_count": 211,
   "metadata": {},
   "outputs": [],
   "source": [
    "import numpy as np\n",
    "import matplotlib.pyplot as plt\n",
    "from scipy.stats import norm"
   ]
  },
  {
   "cell_type": "code",
   "execution_count": 244,
   "metadata": {},
   "outputs": [],
   "source": [
    "def calc_P_l(W,dt,X0=100):\n",
    "    '''\n",
    "    __THIS VERSION DOESN'T TRANSFORM X TO EXP, HENCE X CAN GO NEGATIVE__\n",
    "    Inputs: W (matrix of Nsteps x Nl random numbers ~ N(0,1))\n",
    "    Outputs: h(X) (payoff for each of the Nl paths)\n",
    "    Calculate X for Nl paths over Nsteps \n",
    "    '''\n",
    "    Nsteps,Nl=np.shape(W)\n",
    "    X=X0*np.ones(Nl)\n",
    "    for i in range(Nsteps):\n",
    "        X+=r*X*dt + sig*X*W[i,:]\n",
    "    return h(X)"
   ]
  },
  {
   "cell_type": "code",
   "execution_count": 237,
   "metadata": {},
   "outputs": [],
   "source": [
    "eps=0.01\n",
    "K=2\n",
    "T=1\n",
    "X0=100\n",
    "N0=10000\n",
    "r=0.05\n",
    "sig=0.25\n",
    "Lmax=int(-np.log(eps)/np.log(K)+1)\n",
    "\n",
    "def f(x,r=0.05):\n",
    "    return r*x\n",
    "\n",
    "def g(x,sig=0.25):\n",
    "    return sig*x\n",
    "\n",
    "def h(x,E=100):\n",
    "    x-=E\n",
    "    x[x<0]=0\n",
    "    return np.exp(-0.05*T)*x"
   ]
  },
  {
   "cell_type": "code",
   "execution_count": 258,
   "metadata": {},
   "outputs": [],
   "source": [
    "def calc_P_l(W,dt,X0=100):\n",
    "    '''\n",
    "    Inputs: W (matrix of Nsteps x Nl random numbers ~ N(0,1))\n",
    "    Outputs: h(X) (payoff for each of the Nl paths)\n",
    "    Calculate X for Nl paths over Nsteps \n",
    "    '''\n",
    "    Nsteps,Nl=np.shape(W)\n",
    "    X=np.zeros(Nl)\n",
    "    for i in range(Nsteps):\n",
    "        X+=(r - 0.5*sig*sig)*dt + sig*W[i,:] #Develop as exponential to ensure underlying never goes negative\n",
    "    X=X0*np.exp(X)\n",
    "    return h(X)\n",
    "\n",
    "def calc_DP_l(l,Nl,Nsteps):\n",
    "    '''\n",
    "    Inputs: l (current level), Nl (number of paths to simulate at level l), Nsteps (number of steps for path level l)\n",
    "    Outputs: P_l-P_lm1 for Nl paths (payoff difference for each of the Nl paths with l and l-1 discretisation levels)\n",
    "    '''\n",
    "    dt=T/Nsteps\n",
    "    sqrt_dt=np.sqrt(dt)\n",
    "    W=np.random.randn(Nsteps,Nl)*sqrt_dt\n",
    "    P_l=calc_P_l(W,dt)\n",
    "    \n",
    "    Wnew=W[0::2,:]+W[1::2,:] # Can optimise maybe\n",
    "    P_lm1=calc_P_l(Wnew,2*dt)\n",
    "    \n",
    "    return P_l-P_lm1\n",
    "\n",
    "def calc_Yl(l):\n",
    "    '''\n",
    "    Inputs: l (current level)\n",
    "    Outputs: Y_l (average payoff difference for Nl paths)\n",
    "    '''\n",
    "    Nsteps=K**l\n",
    "    dt=T/Nsteps\n",
    "    Nl=int(Lmax*dt/(eps**2))\n",
    "    return np.sum(calc_DP_l(l,Nl,Nsteps))/Nl"
   ]
  },
  {
   "cell_type": "code",
   "execution_count": 259,
   "metadata": {},
   "outputs": [
    {
     "name": "stdout",
     "output_type": "stream",
     "text": [
      "Y0 = 12.444728400641662\n",
      "Y_L = 12.444728400641656\n"
     ]
    }
   ],
   "source": [
    "Y=np.sum(calc_P_l(np.random.randn(T,N0),T))/N0\n",
    "print(f'Y0 = {Y}')\n",
    "Ys=[Y]\n",
    "for l in range(1,Lmax+1):\n",
    "    Ys+=[calc_Yl(l)]\n",
    "    Y+=Ys[-1]\n",
    "print(f'Y_L = {Y}')\n"
   ]
  },
  {
   "cell_type": "code",
   "execution_count": 240,
   "metadata": {},
   "outputs": [
    {
     "data": {
      "text/plain": [
       "[<matplotlib.lines.Line2D at 0x219a21924e0>]"
      ]
     },
     "execution_count": 240,
     "metadata": {},
     "output_type": "execute_result"
    },
    {
     "data": {
      "image/png": "[encoded data removed]",
      "text/plain": [
       "<Figure size 432x288 with 1 Axes>"
      ]
     },
     "metadata": {
      "needs_background": "light"
     },
     "output_type": "display_data"
    }
   ],
   "source": [
    "Nsteps=40\n",
    "Nl=1\n",
    "dt=T/Nsteps\n",
    "steps1=np.arange(dt,T+dt,dt)\n",
    "W=np.random.randn(Nsteps,Nl)*np.sqrt(dt)\n",
    "\n",
    "Wnew=W[0::2,:]+W[1::2,:]\n",
    "Nsteps,Nl=np.shape(Wnew)\n",
    "dt=T/Nsteps\n",
    "steps2=np.arange(dt,T+dt,dt)\n",
    "steps1=[0]+list(steps1)\n",
    "steps2=[0]+list(steps2)\n",
    "\n",
    "W=[0]+list(W)\n",
    "Wnew=[0]+list(Wnew)\n",
    "\n",
    "plt.plot(steps1,W)\n",
    "plt.plot(steps2,Wnew)"
   ]
  },
  {
   "cell_type": "code",
   "execution_count": 252,
   "metadata": {},
   "outputs": [
    {
     "data": {
      "text/plain": [
       "12.335998930368717"
      ]
     },
     "execution_count": 252,
     "metadata": {},
     "output_type": "execute_result"
    }
   ],
   "source": [
    "#Exact result according to BS formula\n",
    "D1 =(r+sig**2/2)/sig\n",
    "D2 = D1 - sig\n",
    "100*norm.cdf(D1)-100*np.exp(-r)*norm.cdf(D2)"
   ]
  }
 ],
 "metadata": {
  "kernelspec": {
   "display_name": "Python 3",
   "language": "python",
   "name": "python3"
  },
  "language_info": {
   "codemirror_mode": {
    "name": "ipython",
    "version": 3
   },
   "file_extension": ".py",
   "mimetype": "text/x-python",
   "name": "python",
   "nbconvert_exporter": "python",
   "pygments_lexer": "ipython3",
   "version": "3.7.3"
  }
 },
 "nbformat": 4,
 "nbformat_minor": 4
}
