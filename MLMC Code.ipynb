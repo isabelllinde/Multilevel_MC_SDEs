{
 "cells": [
  {
   "cell_type": "code",
   "execution_count": 5,
   "metadata": {},
   "outputs": [],
   "source": [
    "import numpy as np\n",
    "import matplotlib.pyplot as plt\n",
    "from scipy.stats import norm\n",
    "import matplotlib.pyplot as plt"
   ]
  },
  {
   "cell_type": "code",
   "execution_count": 8,
   "metadata": {},
   "outputs": [],
   "source": [
    "r=0.05\n",
    "sig=0.25\n",
    "def mlmc_gbm(l,Nl,T=1,M=2):\n",
    "    Nsteps=M**l\n",
    "    dt=T/Nsteps\n",
    "    sqrt_dt=np.sqrt(dt)\n",
    "    W=np.random.randn(Nsteps,Nl)*sqrt_dt\n",
    "    P_l=calc_P_l(W,dt)\n",
    "    sum1=sum(P_l)\n",
    "    sum2=sum(P_l**2)\n",
    "    \n",
    "    if l==0:\n",
    "        return np.array([sum1,sum2,sum1,sum2])\n",
    "    else:\n",
    "        Wnew=W[0::M,:]+W[1::M,:]\n",
    "        P_lm1=calc_P_l(Wnew,M*dt)\n",
    "        dP_l=P_l-P_lm1\n",
    "        return np.array([sum(dP_l),sum(dP_l**2),sum1,sum2])\n",
    "\n",
    "def calc_P_l(W,dt,X0=100,T=1):\n",
    "    '''\n",
    "    Inputs: W (matrix of Nsteps x Nl random numbers ~ N(0,1))\n",
    "    Outputs: h(X) (payoff for each of the Nl paths)\n",
    "    Calculate X for Nl paths over Nsteps \n",
    "    '''\n",
    "    Nsteps,Nl=np.shape(W)\n",
    "    X=X0*np.ones(Nl)\n",
    "    for i in range(Nsteps):\n",
    "        X+=r*X*dt + sig*X*W[i,:]\n",
    "    X-=X0\n",
    "    X[X<0]=0\n",
    "    return np.exp(-0.05*T)*X\n",
    "\n",
    "def N_opt(V,eps,L,M):\n",
    "    '''\n",
    "    This shouldn't change depending on alpha, but will change according to gamma.\n",
    "    Beta is implicitly included in V, since Vl <= hl**beta.\n",
    "    '''\n",
    "    h=M**(np.arange(0,L+1))\n",
    "    return np.ceil((2/eps**2)*sum(np.sqrt(V*h))*np.sqrt(V/h))\n",
    "    \n",
    "def mlmc(mlmc_fn,eps,N0=10**4,M=2,T=1):\n",
    "    V=np.zeros(1)\n",
    "    N=N0*np.ones(1)\n",
    "    dN=N0*np.ones(1)\n",
    "    sums=np.zeros((4,1))\n",
    "    L=0\n",
    "    sums[:,L]+=mlmc_fn(L,N0,T,M)\n",
    "    \n",
    "    while (sum(dN)!=0):\n",
    "        V=np.maximum(sums[1,:]/N-(sums[0,:]/N)**2,0)\n",
    "        Nl_new=N_opt(V,eps,L,M)\n",
    "        dN=(np.maximum(0,Nl_new-N)).astype(int)\n",
    "        N+=dN\n",
    "        for l in range(L+1):\n",
    "            if dN[l]>0:\n",
    "                sums[:,l]+=mlmc_fn(l,dN[l],T,M)\n",
    "                \n",
    "        inc_L=False\n",
    "        if L>2:\n",
    "            if max(abs(sums[0,L-1])/(N[-2]*M),abs(sums[0,L])/N[-1])>(M-1)*eps/np.sqrt(2):\n",
    "                inc_L=True\n",
    "        else: \n",
    "            inc_L=True\n",
    "            \n",
    "        if inc_L:\n",
    "                L+=1\n",
    "                V=np.concatenate((V,np.zeros(1)), axis=0)\n",
    "                N=np.concatenate((N,N0*np.ones(1)),axis=0)\n",
    "                dN=np.concatenate((dN,N0*np.ones(1)),axis=0)\n",
    "                sums=np.concatenate((sums,np.zeros((4,1))),axis=1)\n",
    "                sums[:,L]+=mlmc_fn(L,N0,T,M)\n",
    "    \n",
    "    return sums,N\n",
    "\n",
    "def mlmc_variance(eps,mlmc_fn,M=2,T=1,N0=10**4):\n",
    "    sums,N=mlmc(mlmc_fn,eps,N0,M,T)\n",
    "    L=len(N)-1\n",
    "    means_dp=sums[0,:]/N\n",
    "    means_p=sums[2,:]/N\n",
    "\n",
    "    V_dp=(sums[1,:]/N)-means_dp**2\n",
    "    V_p=(sums[3,:]/N)-means_p**2\n",
    "\n",
    "    cost_mlmc=(N[0]+sum(N[1:]*(M**np.arange(L)+M**np.arange(1,L+1))))*eps**2\n",
    "    cost_mc=2*sum(V_p*M**np.arange(L+1))\n",
    "    \n",
    "    fig,ax=plt.subplots(1,2)\n",
    "    ax[0].plot(range(L+1),np.log(V_dp)/np.log(M),'k',range(L+1),np.log(Vp)/np.log(M),'b')\n",
    "    ax[1].plot(range(L+1),np.log(means_dp)/np.log(M),'k',range(L+1),np.log(means_p)/np.log(M),'b')\n",
    "\n",
    "\n",
    "def mlmc_complexity(mlmc_fn,eps,M=2,T=1,N0=10**4):\n",
    "    fig,ax=plt.subplots(1,2)\n",
    "    cost_mlmc=[]\n",
    "    cost_mc=[]\n",
    "    for e in eps:\n",
    "        sums,N=mlmc(mlmc_fn,e,N0,M,T)\n",
    "        L=len(N)-1\n",
    "        means_p=sums[2,:]/N\n",
    "        V_p=(sums[3,:]/N)-means_p**2\n",
    "\n",
    "        cost_mlmc+=[(N[0]+sum(N[1:]*(M**np.arange(L)+M**np.arange(1,L+1))))*e**2]\n",
    "        cost_mc+=[2*sum(V_p*M**np.arange(L+1))]\n",
    "\n",
    "    ax[0].semilogy(range(L+1),N)\n",
    "    ax[0].set_xlabel('l')\n",
    "    ax[0].set_ylabel('Nl')\n",
    "\n",
    "    ax[1].loglog(eps,cost_mlmc,'k', eps, cost_mc,'b')\n",
    "    ax[1].set_xlabel('$\\epsilon$')\n",
    "    ax[1].set_ylabel('$\\epsilon^{2}$cost')\n",
    "\n",
    "    "
   ]
  },
  {
   "cell_type": "code",
   "execution_count": 10,
   "metadata": {},
   "outputs": [
    {
     "data": {
      "image/png": "[encoded data removed]",
      "text/plain": [
       "<Figure size 432x288 with 2 Axes>"
      ]
     },
     "metadata": {
      "needs_background": "light"
     },
     "output_type": "display_data"
    }
   ],
   "source": [
    "mlmc_complexity(mlmc_gbm,[0.00005,0.0001,0.0002,0.0005,0.001])"
   ]
  },
  {
   "cell_type": "code",
   "execution_count": null,
   "metadata": {},
   "outputs": [],
   "source": []
  },
  {
   "cell_type": "code",
   "execution_count": null,
   "metadata": {},
   "outputs": [],
   "source": [
    "#### Exact result according to BS formula\n",
    "D1 =(r+sig**2/2)/sig\n",
    "D2 = D1 - sig\n",
    "print(100*norm.cdf(D1)-100*np.exp(-r)*norm.cdf(D2))\n"
   ]
  }
 ],
 "metadata": {
  "kernelspec": {
   "display_name": "Python 3",
   "language": "python",
   "name": "python3"
  },
  "language_info": {
   "codemirror_mode": {
    "name": "ipython",
    "version": 3
   },
   "file_extension": ".py",
   "mimetype": "text/x-python",
   "name": "python",
   "nbconvert_exporter": "python",
   "pygments_lexer": "ipython3",
   "version": "3.7.6"
  }
 },
 "nbformat": 4,
 "nbformat_minor": 4
}
