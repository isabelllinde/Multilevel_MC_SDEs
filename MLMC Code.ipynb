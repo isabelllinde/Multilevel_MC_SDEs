{
 "cells": [
  {
   "cell_type": "code",
   "execution_count": 41,
   "metadata": {},
   "outputs": [],
   "source": [
    "import numpy as np\n",
    "import matplotlib.pyplot as plt\n",
    "from scipy.stats import norm\n",
    "import matplotlib.pyplot as plt\n",
    "import matplotlib.ticker as ticker\n",
    "from scipy.special import factorial\n",
    "\n",
    "plt.rc('text', usetex=True)\n",
    "plt.rc('font',**{'serif':['cm']})\n",
    "plt.style.use('seaborn-paper')\n",
    "plt.rcParams.update({'axes.titlesize':36})\n",
    "plt.rcParams.update({'axes.labelsize': 30})\n",
    "plt.rcParams.update({'xtick.labelsize': 26})\n",
    "plt.rcParams.update({'ytick.labelsize': 26})\n",
    "plt.rcParams.update({'legend.fontsize': 30})\n",
    "plt.rcParams.update({'figure.titlesize': 36})\n",
    "\n"
   ]
  },
  {
   "cell_type": "code",
   "execution_count": null,
   "metadata": {},
   "outputs": [],
   "source": [
    "markers=['o','s','x','d',(8,2,0)]\n",
    "for label,func in {'European':Euro_GBM,'Asian':Asian_GBM,'Lookback':Lookback_GBM,'Digital':Digital_GBM}.items():\n",
    "    option=func()\n",
    "    complexity_plot(option,[0.005,0.01,0.02,0.05,0.1],markers=markers,label=label+'GBM')\n",
    "    plt.savefig(label+'GBM_cost')\n",
    "    variance_plot(option,0.005,label=label+'GBM')\n",
    "    plt.savefig(label+'GBM_var')\n",
    "    "
   ]
  },
  {
   "cell_type": "code",
   "execution_count": null,
   "metadata": {},
   "outputs": [],
   "source": [
    "markers=['o','s','x','d',(8,2,0)]\n",
    "for label,func in {'Asian':Asian_Merton,'Lookback':Lookback_Merton,'Digital':Digital_Merton}.items():\n",
    "    option=func()\n",
    "    complexity_plot(option,[0.01,0.02,0.05,0.07,0.1],markers=markers,label=label+'MJD')\n",
    "    plt.savefig(label+'MJD_cost')\n",
    "    variance_plot(option,0.005,label=label+'MJD')\n",
    "    plt.savefig(label+'MJD_var')"

   ]
  },
  {
   "cell_type": "code",
   "execution_count": null,
   "metadata": {},
   "outputs": [],
   "source": [
    "##Testing f(M) and actual cost\n",
    "cost_mlmc=[]\n",
    "cost_mc=[]\n",
    "for m in [2,3,4,5,6,7,8,9,10]:\n",
    "    Euro=Euro_GBM()\n",
    "    e=0.005\n",
    "    sums,N=Euro.mlmc(e,M=m)\n",
    "    L=len(N)-1\n",
    "    means_p=sums[2,:]/N\n",
    "    V_p=(sums[3,:]/N)-means_p**2\n",
    "\n",
    "    cost_mlmc+=[(N[0]+(1+1/m)*np.sum(N[1:]*(m**np.arange(1,L+1))))*e**2]\n",
    "    cost_mc+=[2*sum(V_p*m**np.arange(L+1))]\n",
    "\n",
    "M=np.array([2,3,4,5,6,7,8,9,10])\n",
    "plt.plot(M,cost_mlmc,label='MLMC')\n",
    "sc=cost_mlmc[3]/((M[3]-1/M[3])/(np.log(M[3]))**2)\n",
    "plt.plot(M,sc*(M-1/M)/(np.log(M))**2,'r--',label='$f(M)$')\n",
    "plt.legend()\n",
    "plt.ylabel('$\\epsilon^{2}$cost')\n",
    "plt.xlabel('$M$');\n",
    "plt.title(f'Asian Call, GBM, $\\epsilon={e}$')\n",
    "plt.savefig('Comparison_Cost_fofM')"
   ]
  },
  {
   "cell_type": "code",
   "execution_count": null,
   "metadata": {},
   "outputs": [],
   "source": [
    "#MLMC,MC,BS Comparison\n",
    "fig,ax=plt.subplots(2,2,figsize=(30,16),sharex=True)\n",
    "eps=np.arange(0.01,0.11,0.01)\n",
    "for label,func in {'European':Euro_GBM,'Asian':Asian_GBM,'Lookback':Lookback_GBM,'Digital':Digital_GBM}.items():\n",
    "    option=func()\n",
    "    p=[]\n",
    "    if label=='European':\n",
    "        axis=ax[0,0]\n",
    "        axis.set_ylabel('Call Option Price')\n",
    "    elif label=='Asian':\n",
    "        axis=ax[0,1]\n",
    "    elif label=='Lookback':\n",
    "        axis=ax[1,0]\n",
    "        axis.set_ylabel('Call Option Price')\n",
    "        axis.set_xlabel('$\\epsilon$')\n",
    "    else:\n",
    "        axis=ax[1,1]\n",
    "        axis.set_xlabel('$\\epsilon$')\n",
    "    for e in eps:\n",
    "        sums,N=option.mlmc(e,M=2)\n",
    "        p+=[np.sum(sums[0,:]/N)]\n",
    "    axis.plot(eps,p,'k--',label='MLMC')\n",
    "    axis.fill_between(eps, p+eps, p-eps, alpha=.5,label='$\\pm\\epsilon$')\n",
    "    axis.plot(eps,option.BS()*np.ones(len(eps)),'k-',label='Black-Scholes')\n",
    "    axis.set_title(label)\n",
    "lgd=plt.legend(loc=\"upper left\", bbox_to_anchor=(1,1.1))\n",
    "text=fig.suptitle(f'GBM Call Options, $T={option.T}, S(0)={option.X0}, K={option.K}, r={option.r*100}\\%, \\sigma={option.sig}$',fontsize=36);\n",
    "fig.tight_layout(rect=[0, 0.03, 1, 0.94],w_pad=2,h_pad=2)\n",
    "plt.savefig('Nice_Images/BSComparison_GBM',bbox_extra_artists=(lgd,text), bbox_inches='tight')"
   ]
  },
  {
   "cell_type": "code",
   "execution_count": null,
   "metadata": {},
   "outputs": [],
   "source": [
    "##Testing Control Variate Factor\n",
    "plt.rcParams['legend.title_fontsize'] = 24\n",
    "plt.figure(figsize=(16,12))\n",
    "e=0.005\n",
    "M=2\n",
    "plt.title(f'GBM SDE, $\\lambda^*$\\n$M={M}, \\epsilon={e}$');\n",
    "markers=['o','s','x','d']\n",
    "i=0\n",
    "\n",
    "for label,func in {'European':Euro_GBM,'Asian':Asian_GBM,'Lookback':Lookback_GBM,'Digital':Digital_GBM}.items():\n",
    "    option=func()\n",
    "    sums,N=option.mlmc(e,M=M)\n",
    "    Vg=sums[5,:]/N-(sums[4,:]/N)**2\n",
    "    lam=((sums[6,:]/N)-(sums[2,:]/N)*(sums[4,:]/N))/Vg\n",
    "    plt.plot(range(len(N)),lam,'k-',marker=markers[i],label=label,\n",
    "               markersize=20,markerfacecolor=\"None\",markeredgecolor='k', markeredgewidth=1)\n",
    "    i+=1\n",
    "\n",
    "plt.xlabel('$l$')\n",
    "plt.ylabel('$\\lambda^{*}$')\n",
    "plt.gca().xaxis.set_major_locator(ticker.MaxNLocator(integer=True))\n",
    "plt.legend(title='Call Option',fontsize=14,labelspacing=1)\n",
    "plt.savefig('lambdaCallOptions_GBM')"
   ]
  },
  {
   "cell_type": "code",
   "execution_count": null,
   "metadata": {},
   "outputs": [],
   "source": [
    "##Testing control variate factor\n",
    "plt.rcParams['legend.title_fontsize'] = 24\n",
    "plt.figure(figsize=(16,12))\n",
    "M=2\n",
    "e=0.05\n",
    "markers=['o','s','x','d']\n",
    "i=0\n",
    "plt.title(f'Merton JD SDE, $\\lambda^*$\\n$M={M}, \\epsilon={e}$');\n",
    "plt.xlabel('$l$')\n",
    "plt.ylabel('$\\lambda^{*}$')\n",
    "\n",
    "for label,func in {'European':Euro_Merton,'Asian':Asian_Merton,'Lookback':Lookback_Merton,'Digital':Digital_Merton}.items():\n",
    "    option=func()\n",
    "    sums,N=option.mlmc(e,M=M)\n",
    "    Vg=sums[5,:]/N-(sums[4,:]/N)**2\n",
    "    lam=((sums[6,:]/N)-(sums[2,:]/N)*(sums[4,:]/N))/Vg\n",
    "    plt.plot(range(len(N)),lam,'k-',marker=markers[i],label=label,\n",
    "               markersize=20,markerfacecolor=\"None\",markeredgecolor='k', markeredgewidth=1)\n",
    "    i+=1\n",
    "plt.gca().xaxis.set_major_locator(ticker.MaxNLocator(integer=True))\n",
    "plt.legend(title='Call Option',fontsize=14,labelspacing=1)\n",
    "plt.savefig('lambdaCallOptions_Merton')"
   ]
  },
  {
   "cell_type": "code",
   "execution_count": null,
   "metadata": {},
   "outputs": [],
   "source": [
    "##Testing linear regression\n",
    "Euro=Euro_GBM()\n",
    "lr=LinearRegression()\n",
    "M=[2,3,4,5,6,7,8,9,10]\n",
    "alphs=[]\n",
    "for i in range():\n",
    "    alphs=[]\n",
    "    for m in M:\n",
    "        sums,N=Euro.mlmc(0.01,M=m)\n",
    "        L=len(N)-1\n",
    "        Yl=np.abs(sums[0,:])/N\n",
    "        X=np.arange(1,L+1).reshape(-1,1)\n",
    "        l = lr.fit(X = X, y = np.log(Yl[1:]))\n",
    "        alpha = max(0.5,-l.coef_[0]/np.log(m))\n",
    "        alphs+=[alpha]\n",
    "    plt.plot(M,alphs,label=f'{i}')\n",
    "plt.legend()"
   ]
  },
  {
   "cell_type": "code",
   "execution_count": null,
   "metadata": {},
   "outputs": [],
   "source": []
  },
  {
   "cell_type": "code",
   "execution_count": null,
   "metadata": {},
   "outputs": [],
   "source": []
  }
 ],
 "metadata": {
  "kernelspec": {
   "display_name": "Python 3",
   "language": "python",
   "name": "python3"
  },
  "language_info": {
   "codemirror_mode": {
    "name": "ipython",
    "version": 3
   },
   "file_extension": ".py",
   "mimetype": "text/x-python",
   "name": "python",
   "nbconvert_exporter": "python",
   "pygments_lexer": "ipython3",
   "version": "3.7.6"
  }
 },
 "nbformat": 4,
 "nbformat_minor": 4
}
